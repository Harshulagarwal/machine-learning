{
 "cells": [
  {
   "cell_type": "code",
   "execution_count": 1,
   "metadata": {},
   "outputs": [],
   "source": [
    "import pandas as pd\n",
    "import sklearn \n",
    "import matplotlib.pyplot as plt"
   ]
  },
  {
   "cell_type": "code",
   "execution_count": 2,
   "metadata": {},
   "outputs": [
    {
     "name": "stderr",
     "output_type": "stream",
     "text": [
      "/usr/local/lib/python2.7/dist-packages/sklearn/cross_validation.py:41: DeprecationWarning: This module was deprecated in version 0.18 in favor of the model_selection module into which all the refactored classes and functions are moved. Also note that the interface of the new CV iterators are different from that of this module. This module will be removed in 0.20.\n",
      "  \"This module will be removed in 0.20.\", DeprecationWarning)\n"
     ]
    }
   ],
   "source": [
    "from sklearn.cross_validation import train_test_split"
   ]
  },
  {
   "cell_type": "code",
   "execution_count": 3,
   "metadata": {},
   "outputs": [],
   "source": [
    "from sklearn.preprocessing import Imputer,LabelEncoder,OneHotEncoder,StandardScaler\n"
   ]
  },
  {
   "cell_type": "code",
   "execution_count": 19,
   "metadata": {},
   "outputs": [
    {
     "name": "stdout",
     "output_type": "stream",
     "text": [
      "Index([u'Id', u'MSSubClass', u'MSZoning', u'LotFrontage', u'LotArea',\n",
      "       u'Street', u'Alley', u'LotShape', u'LandContour', u'Utilities',\n",
      "       u'LotConfig', u'LandSlope', u'Neighborhood', u'Condition1',\n",
      "       u'Condition2', u'BldgType', u'HouseStyle', u'OverallQual',\n",
      "       u'OverallCond', u'YearBuilt', u'YearRemodAdd', u'RoofStyle',\n",
      "       u'RoofMatl', u'Exterior1st', u'Exterior2nd', u'MasVnrType',\n",
      "       u'MasVnrArea', u'ExterQual', u'ExterCond', u'Foundation', u'BsmtQual',\n",
      "       u'BsmtCond', u'BsmtExposure', u'BsmtFinType1', u'BsmtFinSF1',\n",
      "       u'BsmtFinType2', u'BsmtFinSF2', u'BsmtUnfSF', u'TotalBsmtSF',\n",
      "       u'Heating', u'HeatingQC', u'CentralAir', u'Electrical', u'1stFlrSF',\n",
      "       u'2ndFlrSF', u'LowQualFinSF', u'GrLivArea', u'BsmtFullBath',\n",
      "       u'BsmtHalfBath', u'FullBath', u'HalfBath', u'BedroomAbvGr',\n",
      "       u'KitchenAbvGr', u'KitchenQual', u'TotRmsAbvGrd', u'Functional',\n",
      "       u'Fireplaces', u'FireplaceQu', u'GarageType', u'GarageYrBlt',\n",
      "       u'GarageFinish', u'GarageCars', u'GarageArea', u'GarageQual',\n",
      "       u'GarageCond', u'PavedDrive', u'WoodDeckSF', u'OpenPorchSF',\n",
      "       u'EnclosedPorch', u'3SsnPorch', u'ScreenPorch', u'PoolArea', u'PoolQC',\n",
      "       u'Fence', u'MiscFeature', u'MiscVal', u'MoSold', u'YrSold', u'SaleType',\n",
      "       u'SaleCondition', u'SalePrice'],\n",
      "      dtype='object')\n"
     ]
    }
   ],
   "source": [
    "df=pd.read_csv('/home/harshul/Desktop/train.csv')\n",
    "print(df.columns)"
   ]
  },
  {
   "cell_type": "code",
   "execution_count": 5,
   "metadata": {},
   "outputs": [],
   "source": [
    "df=df.drop(['PoolQC'],axis=1)\n",
    "df=df.drop(['Id'],axis=1)"
   ]
  },
  {
   "cell_type": "code",
   "execution_count": 6,
   "metadata": {},
   "outputs": [],
   "source": [
    "features = df.iloc[:,:-1].values\n",
    "target = df.iloc[:,-1:].values"
   ]
  },
  {
   "cell_type": "code",
   "execution_count": 7,
   "metadata": {},
   "outputs": [
    {
     "name": "stdout",
     "output_type": "stream",
     "text": [
      "[[60 'RL' 65.0 ... 2008 'WD' 'Normal']\n",
      " [20 'RL' 80.0 ... 2007 'WD' 'Normal']\n",
      " [60 'RL' 68.0 ... 2008 'WD' 'Normal']\n",
      " ...\n",
      " [70 'RL' 66.0 ... 2010 'WD' 'Normal']\n",
      " [20 'RL' 68.0 ... 2010 'WD' 'Normal']\n",
      " [20 'RL' 75.0 ... 2008 'WD' 'Normal']]\n",
      "[[208500]\n",
      " [181500]\n",
      " [223500]\n",
      " ...\n",
      " [266500]\n",
      " [142125]\n",
      " [147500]]\n"
     ]
    }
   ],
   "source": [
    "print(features)\n",
    "print(target)\n",
    "object_list = list(df.select_dtypes(include = ['object']).columns)\n"
   ]
  },
  {
   "cell_type": "code",
   "execution_count": 8,
   "metadata": {},
   "outputs": [],
   "source": [
    "float_list = list(df.select_dtypes(include = ['float64']).columns)\n"
   ]
  },
  {
   "cell_type": "code",
   "execution_count": 9,
   "metadata": {},
   "outputs": [],
   "source": [
    "li=[]\n",
    "for col in float_list:    \n",
    "    no=df.columns.get_loc(col)\n",
    "    li.append(no)\n",
    "\n",
    "im=Imputer(missing_values='NaN',strategy='mean',axis=0)\n",
    "im=im.fit(features[:,li])\n",
    "features[:,li]=im.transform(features[:,li])"
   ]
  },
  {
   "cell_type": "code",
   "execution_count": 10,
   "metadata": {},
   "outputs": [],
   "source": [
    "for col in object_list:\n",
    "    df[col]=df[col].fillna('None')\n"
   ]
  },
  {
   "cell_type": "code",
   "execution_count": 11,
   "metadata": {},
   "outputs": [],
   "source": [
    "\n",
    "import numpy as np\n",
    "for col in object_list:\n",
    "    no=df.columns.get_loc(col)\n",
    "    labelX=LabelEncoder()\n",
    "    features[:,no]=labelX.fit_transform(features[:,no])\n",
    "    \n",
    "  "
   ]
  },
  {
   "cell_type": "code",
   "execution_count": 12,
   "metadata": {},
   "outputs": [],
   "source": [
    "l=[]\n",
    "for col in object_list:    \n",
    "    no=df.columns.get_loc(col)\n",
    "    l.append(no)\n",
    "ohe=OneHotEncoder(categorical_features=l)\n",
    "features=ohe.fit_transform(features).toarray()\n",
    "\n",
    "features=features[:,l[1]:]"
   ]
  },
  {
   "cell_type": "code",
   "execution_count": 13,
   "metadata": {},
   "outputs": [],
   "source": [
    "X_train,X_test,y_train,y_test=train_test_split(features,target,test_size=0.2,random_state=0)\n",
    "scX=StandardScaler()\n",
    "X_train=scX.fit_transform(X_train)\n",
    "X_test=scX.transform(X_test)\n"
   ]
  },
  {
   "cell_type": "code",
   "execution_count": 14,
   "metadata": {},
   "outputs": [],
   "source": [
    "from sklearn.linear_model import LinearRegression\n",
    "reg=LinearRegression()\n",
    "reg.fit(X_train,y_train)\n",
    "predict=reg.predict(X_test)\n"
   ]
  },
  {
   "cell_type": "code",
   "execution_count": 15,
   "metadata": {},
   "outputs": [],
   "source": [
    "\n",
    "test=y_test\n",
    "test=test.astype(int)\n",
    "accurate_list = []\n",
    "size = len(test)\n",
    "for i in range(size):\n",
    "    if(predict[i] <= (test[i]+0.1*test[i]) and \n",
    "        predict[i] >= (test[i]-0.1*test[i])):\n",
    "        accurate_list.append(\"1\")\n",
    "    else:\n",
    "        accurate_list.append(\"0\")\n",
    "        \n"
   ]
  },
  {
   "cell_type": "code",
   "execution_count": 16,
   "metadata": {},
   "outputs": [],
   "source": [
    "total = len(accurate_list)\n",
    "count_correct = accurate_list.count(\"1\")\n"
   ]
  },
  {
   "cell_type": "code",
   "execution_count": 17,
   "metadata": {},
   "outputs": [
    {
     "name": "stdout",
     "output_type": "stream",
     "text": [
      "59\n"
     ]
    }
   ],
   "source": [
    "print((count_correct*100)/total)"
   ]
  },
  {
   "cell_type": "code",
   "execution_count": 18,
   "metadata": {},
   "outputs": [
    {
     "name": "stdout",
     "output_type": "stream",
     "text": [
      "[[-0.41839013 -0.06556848  0.06556848 ... -0.09258767  0.25639595\n",
      "  -0.61356151]\n",
      " [-0.41839013 -0.06556848  0.06556848 ... -0.09258767  0.62339407\n",
      "   0.88411842]\n",
      " [-0.41839013 -0.06556848  0.06556848 ... -0.09258767  0.62339407\n",
      "   0.88411842]\n",
      " ...\n",
      " [ 2.39011374 -0.06556848  0.06556848 ... -0.09258767 -0.84459842\n",
      "   1.63295838]\n",
      " [-0.41839013 -0.06556848  0.06556848 ... -0.09258767  1.35739032\n",
      "  -1.36240148]\n",
      " [-0.41839013 -0.06556848  0.06556848 ... -0.09258767 -0.11060217\n",
      "   1.63295838]]\n",
      "[[314813]\n",
      " [109500]\n",
      " [163500]\n",
      " ...\n",
      " [112000]\n",
      " [234000]\n",
      " [221000]]\n"
     ]
    }
   ],
   "source": [
    "print((X_train))\n",
    "print((y_train))\n"
   ]
  }
 ],
 "metadata": {
  "kernelspec": {
   "display_name": "Python 2",
   "language": "python",
   "name": "python2"
  },
  "language_info": {
   "codemirror_mode": {
    "name": "ipython",
    "version": 2
   },
   "file_extension": ".py",
   "mimetype": "text/x-python",
   "name": "python",
   "nbconvert_exporter": "python",
   "pygments_lexer": "ipython2",
   "version": "2.7.12"
  }
 },
 "nbformat": 4,
 "nbformat_minor": 2
}
